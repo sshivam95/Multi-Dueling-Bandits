{
 "cells": [
  {
   "cell_type": "code",
   "execution_count": 1,
   "metadata": {},
   "outputs": [],
   "source": [
    "from algorithms import UCB\n",
    "import numpy as np\n",
    "import sys\n",
    "from util.constants import JointFeatureMode\n",
    "\n",
    "import logging\n",
    "logging.basicConfig(stream=sys.stdout, format='%(asctime)s | %(name)s (%(levelname)s):\\t %(message)s')"
   ]
  },
  {
   "cell_type": "code",
   "execution_count": 2,
   "metadata": {},
   "outputs": [],
   "source": [
    "repitition_num = 15\n",
    "regret_ucb = np.zeros((repitition_num, 5000))"
   ]
  },
  {
   "cell_type": "markdown",
   "metadata": {},
   "source": [
    "## Upper Confidence Bound (baseline)"
   ]
  },
  {
   "cell_type": "code",
   "execution_count": 3,
   "metadata": {},
   "outputs": [
    {
     "name": "stdout",
     "output_type": "stream",
     "text": [
      "Rep no.: 1\n",
      "2022-10-11 19:29:16,295 | BaseAlgorithm (INFO):\t Initializing\n",
      "2022-10-11 19:29:24,959 | UpperConfidenceBound (INFO):\t Initializing\n",
      "2022-10-11 19:29:24,961 | UpperConfidenceBound (INFO):\t Running algorithm...\n",
      "Execution time:  43.26359760001651\n",
      "2022-10-11 19:30:08,227 | UpperConfidenceBound (INFO):\t Algorithm Finished...\n",
      "Rep no.: 2\n",
      "2022-10-11 19:30:08,227 | BaseAlgorithm (INFO):\t Initializing\n",
      "2022-10-11 19:30:16,840 | UpperConfidenceBound (INFO):\t Initializing\n",
      "2022-10-11 19:30:16,844 | UpperConfidenceBound (INFO):\t Running algorithm...\n",
      "Execution time:  39.805674800009\n",
      "2022-10-11 19:30:56,652 | UpperConfidenceBound (INFO):\t Algorithm Finished...\n",
      "Rep no.: 3\n",
      "2022-10-11 19:30:56,655 | BaseAlgorithm (INFO):\t Initializing\n",
      "2022-10-11 19:31:03,280 | UpperConfidenceBound (INFO):\t Initializing\n",
      "2022-10-11 19:31:03,282 | UpperConfidenceBound (INFO):\t Running algorithm...\n",
      "Execution time:  14.476288400008343\n",
      "2022-10-11 19:31:17,759 | UpperConfidenceBound (INFO):\t Algorithm Finished...\n",
      "Rep no.: 4\n",
      "2022-10-11 19:31:17,760 | BaseAlgorithm (INFO):\t Initializing\n",
      "2022-10-11 19:31:21,193 | UpperConfidenceBound (INFO):\t Initializing\n",
      "2022-10-11 19:31:21,196 | UpperConfidenceBound (INFO):\t Running algorithm...\n",
      "Execution time:  14.478209399996558\n",
      "2022-10-11 19:31:35,674 | UpperConfidenceBound (INFO):\t Algorithm Finished...\n",
      "Rep no.: 5\n",
      "2022-10-11 19:31:35,676 | BaseAlgorithm (INFO):\t Initializing\n",
      "2022-10-11 19:31:39,102 | UpperConfidenceBound (INFO):\t Initializing\n",
      "2022-10-11 19:31:39,104 | UpperConfidenceBound (INFO):\t Running algorithm...\n",
      "Execution time:  14.433894600020722\n",
      "2022-10-11 19:31:53,539 | UpperConfidenceBound (INFO):\t Algorithm Finished...\n",
      "Rep no.: 6\n",
      "2022-10-11 19:31:53,540 | BaseAlgorithm (INFO):\t Initializing\n",
      "2022-10-11 19:31:56,969 | UpperConfidenceBound (INFO):\t Initializing\n",
      "2022-10-11 19:31:56,971 | UpperConfidenceBound (INFO):\t Running algorithm...\n",
      "Execution time:  14.401702200004365\n",
      "2022-10-11 19:32:11,374 | UpperConfidenceBound (INFO):\t Algorithm Finished...\n",
      "Rep no.: 7\n",
      "2022-10-11 19:32:11,375 | BaseAlgorithm (INFO):\t Initializing\n",
      "2022-10-11 19:32:14,900 | UpperConfidenceBound (INFO):\t Initializing\n",
      "2022-10-11 19:32:14,903 | UpperConfidenceBound (INFO):\t Running algorithm...\n",
      "Execution time:  14.406946500006597\n",
      "2022-10-11 19:32:29,310 | UpperConfidenceBound (INFO):\t Algorithm Finished...\n",
      "Rep no.: 8\n",
      "2022-10-11 19:32:29,311 | BaseAlgorithm (INFO):\t Initializing\n",
      "2022-10-11 19:32:32,733 | UpperConfidenceBound (INFO):\t Initializing\n",
      "2022-10-11 19:32:32,735 | UpperConfidenceBound (INFO):\t Running algorithm...\n",
      "Execution time:  14.44984650000697\n",
      "2022-10-11 19:32:47,186 | UpperConfidenceBound (INFO):\t Algorithm Finished...\n",
      "Rep no.: 9\n",
      "2022-10-11 19:32:47,187 | BaseAlgorithm (INFO):\t Initializing\n",
      "2022-10-11 19:32:50,605 | UpperConfidenceBound (INFO):\t Initializing\n",
      "2022-10-11 19:32:50,608 | UpperConfidenceBound (INFO):\t Running algorithm...\n",
      "Execution time:  14.404703200008953\n",
      "2022-10-11 19:33:05,013 | UpperConfidenceBound (INFO):\t Algorithm Finished...\n",
      "Rep no.: 10\n",
      "2022-10-11 19:33:05,014 | BaseAlgorithm (INFO):\t Initializing\n",
      "2022-10-11 19:33:08,439 | UpperConfidenceBound (INFO):\t Initializing\n",
      "2022-10-11 19:33:08,441 | UpperConfidenceBound (INFO):\t Running algorithm...\n",
      "Execution time:  14.38082759999088\n",
      "2022-10-11 19:33:22,822 | UpperConfidenceBound (INFO):\t Algorithm Finished...\n",
      "Rep no.: 11\n",
      "2022-10-11 19:33:22,822 | BaseAlgorithm (INFO):\t Initializing\n",
      "2022-10-11 19:33:26,309 | UpperConfidenceBound (INFO):\t Initializing\n",
      "2022-10-11 19:33:26,312 | UpperConfidenceBound (INFO):\t Running algorithm...\n",
      "Execution time:  14.438423000014154\n",
      "2022-10-11 19:33:40,750 | UpperConfidenceBound (INFO):\t Algorithm Finished...\n",
      "Rep no.: 12\n",
      "2022-10-11 19:33:40,751 | BaseAlgorithm (INFO):\t Initializing\n",
      "2022-10-11 19:33:44,167 | UpperConfidenceBound (INFO):\t Initializing\n",
      "2022-10-11 19:33:44,170 | UpperConfidenceBound (INFO):\t Running algorithm...\n",
      "Execution time:  14.450888899998972\n",
      "2022-10-11 19:33:58,622 | UpperConfidenceBound (INFO):\t Algorithm Finished...\n",
      "Rep no.: 13\n",
      "2022-10-11 19:33:58,622 | BaseAlgorithm (INFO):\t Initializing\n",
      "2022-10-11 19:34:02,049 | UpperConfidenceBound (INFO):\t Initializing\n",
      "2022-10-11 19:34:02,052 | UpperConfidenceBound (INFO):\t Running algorithm...\n",
      "Execution time:  14.476161200000206\n",
      "2022-10-11 19:34:16,529 | UpperConfidenceBound (INFO):\t Algorithm Finished...\n",
      "Rep no.: 14\n",
      "2022-10-11 19:34:16,530 | BaseAlgorithm (INFO):\t Initializing\n",
      "2022-10-11 19:34:19,902 | UpperConfidenceBound (INFO):\t Initializing\n",
      "2022-10-11 19:34:19,904 | UpperConfidenceBound (INFO):\t Running algorithm...\n",
      "Execution time:  14.38321589998668\n",
      "2022-10-11 19:34:34,288 | UpperConfidenceBound (INFO):\t Algorithm Finished...\n",
      "Rep no.: 15\n",
      "2022-10-11 19:34:34,289 | BaseAlgorithm (INFO):\t Initializing\n",
      "2022-10-11 19:34:37,717 | UpperConfidenceBound (INFO):\t Initializing\n",
      "2022-10-11 19:34:37,720 | UpperConfidenceBound (INFO):\t Running algorithm...\n",
      "Execution time:  14.368981700012228\n",
      "2022-10-11 19:34:52,090 | UpperConfidenceBound (INFO):\t Algorithm Finished...\n"
     ]
    }
   ],
   "source": [
    "for rep in range(repitition_num):\n",
    "    print(f\"Rep no.: {rep + 1}\")\n",
    "    ucb = UCB(random_state=np.random.RandomState(515), joint_featured_map_mode=JointFeatureMode.KRONECKER.value)\n",
    "    ucb.run()\n",
    "    regret_ucb[rep] = ucb.get_regret()"
   ]
  },
  {
   "cell_type": "code",
   "execution_count": 8,
   "metadata": {},
   "outputs": [],
   "source": [
    "# regret = ucb.get_regret().astype(\"float64\")\n",
    "regret_ucb.shape\n",
    "np.savetxt('regret_ucb.txt', regret_ucb)"
   ]
  },
  {
   "cell_type": "code",
   "execution_count": 12,
   "metadata": {},
   "outputs": [],
   "source": [
    "def compute_cumm_reg(regrets):\n",
    "    cummulative_regrets = []\n",
    "    for regret in regrets:\n",
    "        cummulative_regret = [0]\n",
    "        for i, value in enumerate(regret):\n",
    "            cummulative_regret.append((cummulative_regret[-1] + value))\n",
    "        cummulative_regrets.append(cummulative_regret)\n",
    "    return cummulative_regrets[1:]"
   ]
  },
  {
   "cell_type": "code",
   "execution_count": 24,
   "metadata": {},
   "outputs": [
    {
     "data": {
      "text/plain": [
       "(14, 5001)"
      ]
     },
     "execution_count": 24,
     "metadata": {},
     "output_type": "execute_result"
    }
   ],
   "source": [
    "from util.metrics import cumulative_regret\n",
    "import numpy as np\n",
    "import matplotlib.pyplot as plt\n",
    "\n",
    "cum_reg_ucb = np.array(compute_cumm_reg(regret_ucb))\n",
    "cum_reg_ucb.shape"
   ]
  },
  {
   "cell_type": "code",
   "execution_count": 35,
   "metadata": {},
   "outputs": [
    {
     "data": {
      "image/png": "[encoded data removed]",
      "text/plain": [
       "<Figure size 640x480 with 1 Axes>"
      ]
     },
     "metadata": {},
     "output_type": "display_data"
    }
   ],
   "source": [
    "plt.plot(np.mean(cum_reg_ucb, axis=0))\n",
    "plt.fill_between(\n",
    "    range(len(cum_reg_ucb[0])), \n",
    "    np.mean(cum_reg_ucb, axis=0)-np.std(cum_reg_ucb, axis=0)/np.sqrt(len(cum_reg_ucb)), \n",
    "    np.mean(cum_reg_ucb, axis=0)+np.std(cum_reg_ucb, axis=0)/np.sqrt(len(cum_reg_ucb)), \n",
    "    color='red',\n",
    "    alpha=0.5\n",
    ")\n",
    "plt.show()"
   ]
  },
  {
   "cell_type": "markdown",
   "metadata": {},
   "source": [
    "# Testing utility code"
   ]
  },
  {
   "cell_type": "code",
   "execution_count": 2,
   "metadata": {},
   "outputs": [
    {
     "data": {
      "text/plain": [
       "(1499, 19)"
      ]
     },
     "execution_count": 2,
     "metadata": {},
     "output_type": "execute_result"
    }
   ],
   "source": [
    "from util.utility_functions import get_run_times_mips\n",
    "get_run_times_mips().shape"
   ]
  }
 ],
 "metadata": {
  "kernelspec": {
   "display_name": "Python 3.10.4 ('venv')",
   "language": "python",
   "name": "python3"
  },
  "language_info": {
   "codemirror_mode": {
    "name": "ipython",
    "version": 3
   },
   "file_extension": ".py",
   "mimetype": "text/x-python",
   "name": "python",
   "nbconvert_exporter": "python",
   "pygments_lexer": "ipython3",
   "version": "3.10.4"
  },
  "orig_nbformat": 4,
  "vscode": {
   "interpreter": {
    "hash": "0af4c4459b51e763b84dd116221213220cdb0e4429d7dbc612e6e1e5a252f6da"
   }
  }
 },
 "nbformat": 4,
 "nbformat_minor": 2
}
