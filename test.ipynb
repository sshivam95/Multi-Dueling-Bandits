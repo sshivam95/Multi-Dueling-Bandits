{
 "cells": [
  {
   "cell_type": "code",
   "execution_count": 1,
   "metadata": {},
   "outputs": [],
   "source": [
    "from algorithms.trace_the_best import TraceTheBest\n",
    "import numpy as np\n",
    "from util import utility_functions"
   ]
  },
  {
   "cell_type": "code",
   "execution_count": 2,
   "metadata": {},
   "outputs": [],
   "source": [
    "ttb = TraceTheBest()"
   ]
  },
  {
   "cell_type": "code",
   "execution_count": 3,
   "metadata": {},
   "outputs": [
    {
     "data": {
      "text/plain": [
       "[15]"
      ]
     },
     "execution_count": 3,
     "metadata": {},
     "output_type": "execute_result"
    }
   ],
   "source": [
    "ttb.running_winner"
   ]
  },
  {
   "cell_type": "code",
   "execution_count": 4,
   "metadata": {},
   "outputs": [
    {
     "data": {
      "text/plain": [
       "array([ 2,  8, 24, 25, 19, 11, 22,  7,  9, 17,  6, 13, 23,  3, 15])"
      ]
     },
     "execution_count": 4,
     "metadata": {},
     "output_type": "execute_result"
    }
   ],
   "source": [
    "ttb.actions"
   ]
  },
  {
   "cell_type": "code",
   "execution_count": 5,
   "metadata": {},
   "outputs": [
    {
     "data": {
      "text/plain": [
       "array([ 0,  1,  4,  5, 10, 12, 14, 16, 18, 20, 21, 26, 27, 28, 29])"
      ]
     },
     "execution_count": 5,
     "metadata": {},
     "output_type": "execute_result"
    }
   ],
   "source": [
    "ttb.subset"
   ]
  },
  {
   "cell_type": "code",
   "execution_count": 6,
   "metadata": {},
   "outputs": [],
   "source": [
    "ttb.step()"
   ]
  },
  {
   "cell_type": "code",
   "execution_count": 7,
   "metadata": {},
   "outputs": [],
   "source": [
    "wins = dict()\n",
    "for arm in ttb.actions:\n",
    "    wins[arm] = ttb.preference_estimate.get_wins(arm_index=arm)"
   ]
  },
  {
   "cell_type": "code",
   "execution_count": 8,
   "metadata": {},
   "outputs": [
    {
     "data": {
      "text/plain": [
       "{2: 2.0,\n",
       " 8: 15.0,\n",
       " 24: 21.0,\n",
       " 25: 18.0,\n",
       " 19: 20.0,\n",
       " 11: 18.0,\n",
       " 22: 23.0,\n",
       " 7: 13.0,\n",
       " 9: 12.0,\n",
       " 17: 12.0,\n",
       " 6: 16.0,\n",
       " 13: 8.0,\n",
       " 23: 10.0,\n",
       " 3: 20.0,\n",
       " 15: 2.0}"
      ]
     },
     "execution_count": 8,
     "metadata": {},
     "output_type": "execute_result"
    }
   ],
   "source": [
    "wins"
   ]
  },
  {
   "cell_type": "code",
   "execution_count": 11,
   "metadata": {},
   "outputs": [],
   "source": [
    "import csv \n",
    "import re\n",
    "import os\n",
    "from pathlib import Path\n",
    "import numpy as np\n",
    "\n",
    "running_times_file = os.path.join(f'{Path.cwd()}', 'Data_saps_swgcp_reduced\\cpu_times_inst_param.csv')\n",
    "running_times = []\n",
    "with open(running_times_file, newline='') as csvfile:\n",
    "    running_times_data = list(csv.reader(csvfile))\n",
    "for i in range(1, len(running_times_data)):\n",
    "    next_line = running_times_data[i][0]\n",
    "    next_rt_vector = [float(s) for s in re.findall(r'-?\\d+\\.?\\d*', next_line)][2:]\n",
    "    running_times.append(next_rt_vector)\n",
    "running_times = np.asarray(running_times)\n",
    "lambda_ = 100\n",
    "running_times = np.exp(-lambda_ * running_times)"
   ]
  },
  {
   "cell_type": "code",
   "execution_count": 13,
   "metadata": {},
   "outputs": [
    {
     "data": {
      "text/plain": [
       "(5000, 20)"
      ]
     },
     "execution_count": 13,
     "metadata": {},
     "output_type": "execute_result"
    }
   ],
   "source": [
    "running_times.shape"
   ]
  },
  {
   "cell_type": "code",
   "execution_count": 14,
   "metadata": {},
   "outputs": [
    {
     "name": "stdout",
     "output_type": "stream",
     "text": [
      "['[[1.5411388195908957, 0.8512124409204118, 0.7394411417919063, 0.8466405274871364], [1.8587190936898168, 0.6627008926747562, 0.5327588961637244, 0.19369267956194292], [1.488344679900774, 0.8393507549142253, -0.2195617150751633, 0.9736288384317074], [0.8078380961897467, 0.7878762538542863, 0.6349530938152467, 0.987748542571856], [1.2793716752186777, 0.7850202265117289, 0.8716241643012, 0.7690036238905535], [1.0879162357123897, 0.09994492756209727, 0.624429149132911, -0.2718023201831236], [1.6535073735760364, 0.8283015950731956, 0.7114344742221157, 0.9524186631101768], [1.451217193272738, 0.5158064487978745, 0.8046393481702985, -0.20273055153247843], [1.6245010199293852, 0.5537483410424786, 0.4642116795471889, 0.41949596087658847], [1.4036119873927375, 0.7281216123896138, 0.743331710855305, 0.7155452701265295], [1.929608951275947, 0.9107201115006488, 0.9952553739177741, 0.9582840403663512], [1.4095524115842906, 0.7408473379609312, -0.07884678392069745, -0.3678710459650717], [1.7948133550162635, 0.8297297923831559, 0.8191200186180045, 0.3189737625060992], [1.857503403674219, 0.6547036187815629, 0.5884267833924809, 0.4662516898032243], [1.74698911773888, 0.6991389582257546, 0.6100258429110362, 0.9601597681203864], [1.8879307175612376, 0.4645325580984033, 0.9247948972510882, 0.7271945317650448], [1.6724028375760345, 0.830822641919178, 0.7042856812879232, 0.7918625353496642], [1.9771714218601446, 0.9413546181935932, 0.8247513209132217, 0.9359043906003253], [1.7129490044146847, -0.9554144066823994, 0.9885181279648552, 0.5856643285987491], [0.8598808324325833, 0.9323544746911515, -0.07855038552211749, 0.4961077650928821]]\\n']\n"
     ]
    }
   ],
   "source": [
    "with open(os.path.join(f'{Path.cwd()}', 'Data_saps_swgcp_reduced\\Random_Parameters_SAPS.txt'), \"r\") as f:\n",
    "    print(f.readlines())"
   ]
  },
  {
   "cell_type": "code",
   "execution_count": 2,
   "metadata": {},
   "outputs": [
    {
     "data": {
      "text/plain": [
       "'d:\\\\Study Material\\\\Thesis work\\\\Multi-Dueling-Bandits'"
      ]
     },
     "execution_count": 2,
     "metadata": {},
     "output_type": "execute_result"
    }
   ],
   "source": [
    "D:\\Study Material\\Thesis work\\Multi-Dueling-Bandits\\Data_saps_swgcp_reduced"
   ]
  }
 ],
 "metadata": {
  "kernelspec": {
   "display_name": "Python 3.9.7 ('base')",
   "language": "python",
   "name": "python3"
  },
  "language_info": {
   "codemirror_mode": {
    "name": "ipython",
    "version": 3
   },
   "file_extension": ".py",
   "mimetype": "text/x-python",
   "name": "python",
   "nbconvert_exporter": "python",
   "pygments_lexer": "ipython3",
   "version": "3.9.7"
  },
  "orig_nbformat": 4,
  "vscode": {
   "interpreter": {
    "hash": "ad2bdc8ecc057115af97d19610ffacc2b4e99fae6737bb82f5d7fb13d2f2c186"
   }
  }
 },
 "nbformat": 4,
 "nbformat_minor": 2
}
