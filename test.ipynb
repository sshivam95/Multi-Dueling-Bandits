{
 "cells": [
  {
   "cell_type": "code",
   "execution_count": 1,
   "metadata": {
    "pycharm": {
     "name": "#%%\n"
    }
   },
   "outputs": [],
   "source": [
    "from algorithms import UCB\n",
    "import numpy as np\n",
    "import sys\n",
    "from util.constants import JointFeatureMode\n",
    "from util import utility_functions\n",
    "import matplotlib.pyplot as plt\n",
    "\n",
    "import logging\n",
    "logging.basicConfig(stream=sys.stdout, format='%(asctime)s | %(name)s (%(levelname)s):\\t %(message)s')"
   ]
  },
  {
   "cell_type": "code",
   "execution_count": 2,
   "metadata": {
    "pycharm": {
     "name": "#%%\n"
    }
   },
   "outputs": [],
   "source": [
    "repitition_num = 50\n",
    "parametrizations = utility_functions.get_parameterization_saps()\n",
    "features = utility_functions.get_features_saps()\n",
    "running_time = utility_functions.get_run_times_saps()\n",
    "regret_ucb = np.zeros((repitition_num, features.shape[0]))\n",
    "execution_time_ucb = np.zeros(repitition_num)"
   ]
  },
  {
   "cell_type": "markdown",
   "metadata": {
    "pycharm": {
     "name": "#%% md\n"
    }
   },
   "source": [
    "## Upper Confidence Bound (baseline)"
   ]
  },
  {
   "cell_type": "code",
   "execution_count": 3,
   "metadata": {
    "pycharm": {
     "name": "#%%\n"
    }
   },
   "outputs": [
    {
     "name": "stdout",
     "output_type": "stream",
     "text": [
      "Rep no.: 1\n",
      "2022-10-12 11:28:15,771 | UpperConfidenceBound (INFO):\t Running algorithm...\n",
      "Execution time:  53.19909153878689\n",
      "2022-10-12 11:29:08,972 | UpperConfidenceBound (INFO):\t Algorithm Finished...\n",
      "Rep no.: 2\n",
      "2022-10-12 11:29:31,543 | UpperConfidenceBound (INFO):\t Running algorithm...\n",
      "Execution time:  53.87867025192827\n",
      "2022-10-12 11:30:25,423 | UpperConfidenceBound (INFO):\t Algorithm Finished...\n",
      "Rep no.: 3\n",
      "2022-10-12 11:30:48,604 | UpperConfidenceBound (INFO):\t Running algorithm...\n",
      "Execution time:  51.74580823816359\n",
      "2022-10-12 11:31:40,352 | UpperConfidenceBound (INFO):\t Algorithm Finished...\n",
      "Rep no.: 4\n",
      "2022-10-12 11:32:02,433 | UpperConfidenceBound (INFO):\t Running algorithm...\n",
      "Execution time:  51.157133551780134\n",
      "2022-10-12 11:32:53,592 | UpperConfidenceBound (INFO):\t Algorithm Finished...\n",
      "Rep no.: 5\n",
      "2022-10-12 11:33:16,247 | UpperConfidenceBound (INFO):\t Running algorithm...\n",
      "Execution time:  48.634869317058474\n",
      "2022-10-12 11:34:04,883 | UpperConfidenceBound (INFO):\t Algorithm Finished...\n",
      "Rep no.: 6\n",
      "2022-10-12 11:34:27,216 | UpperConfidenceBound (INFO):\t Running algorithm...\n",
      "Execution time:  49.0775023503229\n",
      "2022-10-12 11:35:16,295 | UpperConfidenceBound (INFO):\t Algorithm Finished...\n",
      "Rep no.: 7\n",
      "2022-10-12 11:35:38,196 | UpperConfidenceBound (INFO):\t Running algorithm...\n",
      "Execution time:  49.0555268349126\n",
      "2022-10-12 11:36:27,253 | UpperConfidenceBound (INFO):\t Algorithm Finished...\n",
      "Rep no.: 8\n",
      "2022-10-12 11:36:49,453 | UpperConfidenceBound (INFO):\t Running algorithm...\n",
      "Execution time:  49.10254062991589\n",
      "2022-10-12 11:37:38,557 | UpperConfidenceBound (INFO):\t Algorithm Finished...\n",
      "Rep no.: 9\n",
      "2022-10-12 11:38:00,890 | UpperConfidenceBound (INFO):\t Running algorithm...\n",
      "Execution time:  49.040634888689965\n",
      "2022-10-12 11:38:49,933 | UpperConfidenceBound (INFO):\t Algorithm Finished...\n",
      "Rep no.: 10\n",
      "2022-10-12 11:39:13,075 | UpperConfidenceBound (INFO):\t Running algorithm...\n",
      "Execution time:  49.17279296601191\n",
      "2022-10-12 11:40:02,249 | UpperConfidenceBound (INFO):\t Algorithm Finished...\n",
      "Rep no.: 11\n",
      "2022-10-12 11:40:24,446 | UpperConfidenceBound (INFO):\t Running algorithm...\n",
      "Execution time:  48.92827876098454\n",
      "2022-10-12 11:41:13,376 | UpperConfidenceBound (INFO):\t Algorithm Finished...\n",
      "Rep no.: 12\n",
      "2022-10-12 11:41:36,402 | UpperConfidenceBound (INFO):\t Running algorithm...\n",
      "Execution time:  47.660777958109975\n",
      "2022-10-12 11:42:24,065 | UpperConfidenceBound (INFO):\t Algorithm Finished...\n",
      "Rep no.: 13\n",
      "2022-10-12 11:42:46,058 | UpperConfidenceBound (INFO):\t Running algorithm...\n",
      "Execution time:  49.034090351779014\n",
      "2022-10-12 11:43:35,093 | UpperConfidenceBound (INFO):\t Algorithm Finished...\n",
      "Rep no.: 14\n",
      "2022-10-12 11:43:56,978 | UpperConfidenceBound (INFO):\t Running algorithm...\n",
      "Execution time:  48.00275916419923\n",
      "2022-10-12 11:44:44,982 | UpperConfidenceBound (INFO):\t Algorithm Finished...\n",
      "Rep no.: 15\n",
      "2022-10-12 11:45:07,133 | UpperConfidenceBound (INFO):\t Running algorithm...\n",
      "Execution time:  48.21515770908445\n",
      "2022-10-12 11:45:55,350 | UpperConfidenceBound (INFO):\t Algorithm Finished...\n",
      "Rep no.: 16\n",
      "2022-10-12 11:46:18,194 | UpperConfidenceBound (INFO):\t Running algorithm...\n",
      "Execution time:  47.64401214197278\n",
      "2022-10-12 11:47:05,840 | UpperConfidenceBound (INFO):\t Algorithm Finished...\n",
      "Rep no.: 17\n",
      "2022-10-12 11:47:28,376 | UpperConfidenceBound (INFO):\t Running algorithm...\n",
      "Execution time:  47.958633181173354\n",
      "2022-10-12 11:48:16,337 | UpperConfidenceBound (INFO):\t Algorithm Finished...\n",
      "Rep no.: 18\n",
      "2022-10-12 11:48:38,168 | UpperConfidenceBound (INFO):\t Running algorithm...\n",
      "Execution time:  47.66646431013942\n",
      "2022-10-12 11:49:25,837 | UpperConfidenceBound (INFO):\t Algorithm Finished...\n",
      "Rep no.: 19\n",
      "2022-10-12 11:49:47,897 | UpperConfidenceBound (INFO):\t Running algorithm...\n",
      "Execution time:  47.80111778480932\n",
      "2022-10-12 11:50:35,700 | UpperConfidenceBound (INFO):\t Algorithm Finished...\n",
      "Rep no.: 20\n",
      "2022-10-12 11:50:57,823 | UpperConfidenceBound (INFO):\t Running algorithm...\n",
      "Execution time:  48.268979952670634\n",
      "2022-10-12 11:51:46,093 | UpperConfidenceBound (INFO):\t Algorithm Finished...\n",
      "Rep no.: 21\n",
      "2022-10-12 11:52:07,923 | UpperConfidenceBound (INFO):\t Running algorithm...\n",
      "Execution time:  47.9181257346645\n",
      "2022-10-12 11:52:55,843 | UpperConfidenceBound (INFO):\t Algorithm Finished...\n",
      "Rep no.: 22\n",
      "2022-10-12 11:53:18,371 | UpperConfidenceBound (INFO):\t Running algorithm...\n",
      "Execution time:  47.747564177028835\n",
      "2022-10-12 11:54:06,121 | UpperConfidenceBound (INFO):\t Algorithm Finished...\n",
      "Rep no.: 23\n",
      "2022-10-12 11:54:27,973 | UpperConfidenceBound (INFO):\t Running algorithm...\n",
      "Execution time:  48.12574591860175\n",
      "2022-10-12 11:55:16,100 | UpperConfidenceBound (INFO):\t Algorithm Finished...\n",
      "Rep no.: 24\n",
      "2022-10-12 11:55:37,950 | UpperConfidenceBound (INFO):\t Running algorithm...\n",
      "Execution time:  48.33353236876428\n",
      "2022-10-12 11:56:26,285 | UpperConfidenceBound (INFO):\t Algorithm Finished...\n",
      "Rep no.: 25\n",
      "2022-10-12 11:56:49,429 | UpperConfidenceBound (INFO):\t Running algorithm...\n",
      "Execution time:  48.24708150466904\n",
      "2022-10-12 11:57:37,678 | UpperConfidenceBound (INFO):\t Algorithm Finished...\n",
      "Rep no.: 26\n",
      "2022-10-12 11:57:59,562 | UpperConfidenceBound (INFO):\t Running algorithm...\n",
      "Execution time:  47.71720399707556\n",
      "2022-10-12 11:58:47,281 | UpperConfidenceBound (INFO):\t Algorithm Finished...\n",
      "Rep no.: 27\n",
      "2022-10-12 11:59:10,041 | UpperConfidenceBound (INFO):\t Running algorithm...\n",
      "Execution time:  48.17628991603851\n",
      "2022-10-12 11:59:58,219 | UpperConfidenceBound (INFO):\t Algorithm Finished...\n",
      "Rep no.: 28\n",
      "2022-10-12 12:00:20,266 | UpperConfidenceBound (INFO):\t Running algorithm...\n",
      "Execution time:  48.4386580446735\n",
      "2022-10-12 12:01:08,706 | UpperConfidenceBound (INFO):\t Algorithm Finished...\n",
      "Rep no.: 29\n",
      "2022-10-12 12:01:30,718 | UpperConfidenceBound (INFO):\t Running algorithm...\n",
      "Execution time:  48.35904197394848\n",
      "2022-10-12 12:02:19,079 | UpperConfidenceBound (INFO):\t Algorithm Finished...\n",
      "Rep no.: 30\n",
      "2022-10-12 12:02:41,350 | UpperConfidenceBound (INFO):\t Running algorithm...\n",
      "Execution time:  47.83947397209704\n",
      "2022-10-12 12:03:29,191 | UpperConfidenceBound (INFO):\t Algorithm Finished...\n",
      "Rep no.: 31\n",
      "2022-10-12 12:03:51,757 | UpperConfidenceBound (INFO):\t Running algorithm...\n",
      "Execution time:  48.2144913142547\n",
      "2022-10-12 12:04:39,973 | UpperConfidenceBound (INFO):\t Algorithm Finished...\n",
      "Rep no.: 32\n",
      "2022-10-12 12:05:02,478 | UpperConfidenceBound (INFO):\t Running algorithm...\n",
      "Execution time:  48.592506024986506\n",
      "2022-10-12 12:05:51,072 | UpperConfidenceBound (INFO):\t Algorithm Finished...\n",
      "Rep no.: 33\n",
      "2022-10-12 12:06:13,802 | UpperConfidenceBound (INFO):\t Running algorithm...\n",
      "Execution time:  48.70417536282912\n",
      "2022-10-12 12:07:02,507 | UpperConfidenceBound (INFO):\t Algorithm Finished...\n",
      "Rep no.: 34\n",
      "2022-10-12 12:07:25,100 | UpperConfidenceBound (INFO):\t Running algorithm...\n",
      "Execution time:  48.31425285432488\n",
      "2022-10-12 12:08:13,416 | UpperConfidenceBound (INFO):\t Algorithm Finished...\n",
      "Rep no.: 35\n",
      "2022-10-12 12:08:36,183 | UpperConfidenceBound (INFO):\t Running algorithm...\n",
      "Execution time:  48.6896401559934\n",
      "2022-10-12 12:09:24,874 | UpperConfidenceBound (INFO):\t Algorithm Finished...\n",
      "Rep no.: 36\n",
      "2022-10-12 12:09:47,597 | UpperConfidenceBound (INFO):\t Running algorithm...\n",
      "Execution time:  48.52379939099774\n",
      "2022-10-12 12:10:36,122 | UpperConfidenceBound (INFO):\t Algorithm Finished...\n",
      "Rep no.: 37\n",
      "2022-10-12 12:10:58,053 | UpperConfidenceBound (INFO):\t Running algorithm...\n",
      "Execution time:  47.06722899712622\n",
      "2022-10-12 12:11:45,121 | UpperConfidenceBound (INFO):\t Algorithm Finished...\n",
      "Rep no.: 38\n",
      "2022-10-12 12:12:07,481 | UpperConfidenceBound (INFO):\t Running algorithm...\n",
      "Execution time:  45.5022178478539\n",
      "2022-10-12 12:12:52,984 | UpperConfidenceBound (INFO):\t Algorithm Finished...\n",
      "Rep no.: 39\n",
      "2022-10-12 12:13:14,859 | UpperConfidenceBound (INFO):\t Running algorithm...\n",
      "Execution time:  46.37016394082457\n",
      "2022-10-12 12:14:01,231 | UpperConfidenceBound (INFO):\t Algorithm Finished...\n",
      "Rep no.: 40\n",
      "2022-10-12 12:14:23,651 | UpperConfidenceBound (INFO):\t Running algorithm...\n",
      "Execution time:  46.22261084895581\n",
      "2022-10-12 12:15:09,875 | UpperConfidenceBound (INFO):\t Algorithm Finished...\n",
      "Rep no.: 41\n",
      "2022-10-12 12:15:32,652 | UpperConfidenceBound (INFO):\t Running algorithm...\n",
      "Execution time:  46.622938889078796\n",
      "2022-10-12 12:16:19,276 | UpperConfidenceBound (INFO):\t Algorithm Finished...\n",
      "Rep no.: 42\n",
      "2022-10-12 12:16:41,655 | UpperConfidenceBound (INFO):\t Running algorithm...\n",
      "Execution time:  46.3474125880748\n",
      "2022-10-12 12:17:28,004 | UpperConfidenceBound (INFO):\t Algorithm Finished...\n",
      "Rep no.: 43\n",
      "2022-10-12 12:17:49,810 | UpperConfidenceBound (INFO):\t Running algorithm...\n",
      "Execution time:  45.55073342192918\n",
      "2022-10-12 12:18:35,361 | UpperConfidenceBound (INFO):\t Algorithm Finished...\n",
      "Rep no.: 44\n",
      "2022-10-12 12:18:57,333 | UpperConfidenceBound (INFO):\t Running algorithm...\n",
      "Execution time:  45.17089960677549\n",
      "2022-10-12 12:19:42,505 | UpperConfidenceBound (INFO):\t Algorithm Finished...\n",
      "Rep no.: 45\n",
      "2022-10-12 12:20:04,263 | UpperConfidenceBound (INFO):\t Running algorithm...\n",
      "Execution time:  45.44238827005029\n",
      "2022-10-12 12:20:49,706 | UpperConfidenceBound (INFO):\t Algorithm Finished...\n",
      "Rep no.: 46\n",
      "2022-10-12 12:21:11,431 | UpperConfidenceBound (INFO):\t Running algorithm...\n",
      "Execution time:  46.293111766222864\n",
      "2022-10-12 12:21:57,725 | UpperConfidenceBound (INFO):\t Algorithm Finished...\n",
      "Rep no.: 47\n",
      "2022-10-12 12:22:20,232 | UpperConfidenceBound (INFO):\t Running algorithm...\n",
      "Execution time:  46.96096356026828\n",
      "2022-10-12 12:23:07,194 | UpperConfidenceBound (INFO):\t Algorithm Finished...\n",
      "Rep no.: 48\n",
      "2022-10-12 12:23:29,160 | UpperConfidenceBound (INFO):\t Running algorithm...\n",
      "Execution time:  46.63529487932101\n",
      "2022-10-12 12:24:15,797 | UpperConfidenceBound (INFO):\t Algorithm Finished...\n",
      "Rep no.: 49\n",
      "2022-10-12 12:24:37,900 | UpperConfidenceBound (INFO):\t Running algorithm...\n",
      "Execution time:  47.18363096890971\n",
      "2022-10-12 12:25:25,084 | UpperConfidenceBound (INFO):\t Algorithm Finished...\n",
      "Rep no.: 50\n",
      "2022-10-12 12:25:47,338 | UpperConfidenceBound (INFO):\t Running algorithm...\n",
      "Execution time:  46.50803597504273\n",
      "2022-10-12 12:26:33,847 | UpperConfidenceBound (INFO):\t Algorithm Finished...\n"
     ]
    }
   ],
   "source": [
    "for rep in range(repitition_num):\n",
    "    print(f\"Rep no.: {rep + 1}\")\n",
    "    ucb = UCB(random_state=np.random.RandomState(515), parametrizations=parametrizations, features=features, running_time=running_time)\n",
    "    ucb.run()\n",
    "    regret_ucb[rep] = ucb.get_regret()\n",
    "    execution_time_ucb[rep] = ucb.execution_time"
   ]
  },
  {
   "cell_type": "code",
   "execution_count": 4,
   "metadata": {
    "pycharm": {
     "name": "#%%\n"
    }
   },
   "outputs": [
    {
     "name": "stdout",
     "output_type": "stream",
     "text": [
      "(50, 5000)\n"
     ]
    }
   ],
   "source": [
    "# regret = ucb.get_regret().astype(\"float64\")\n",
    "print(regret_ucb.shape)\n",
    "np.savetxt('regret_ucb.txt', regret_ucb)"
   ]
  },
  {
   "cell_type": "code",
   "execution_count": null,
   "outputs": [],
   "source": [
    "regret_50 = np.loadtxt('regret_ucb.txt')\n",
    "regret_50.shape"
   ],
   "metadata": {
    "collapsed": false,
    "pycharm": {
     "name": "#%%\n"
    }
   }
  },
  {
   "cell_type": "code",
   "execution_count": 8,
   "metadata": {
    "pycharm": {
     "name": "#%%\n"
    }
   },
   "outputs": [
    {
     "data": {
      "text/plain": "<Figure size 640x480 with 1 Axes>",
      "image/png": "[encoded data removed]"
     },
     "metadata": {},
     "output_type": "display_data"
    }
   ],
   "source": [
    "plt.plot(np.mean(cum_reg_ucb, axis=0))\n",
    "plt.fill_between(\n",
    "    range(len(cum_reg_ucb[0])), \n",
    "    np.mean(cum_reg_ucb, axis=0)-np.std(cum_reg_ucb, axis=0)/np.sqrt(len(cum_reg_ucb)), \n",
    "    np.mean(cum_reg_ucb, axis=0)+np.std(cum_reg_ucb, axis=0)/np.sqrt(len(cum_reg_ucb)), \n",
    "    color='red',\n",
    "    alpha=0.5\n",
    ")\n",
    "plt.show()"
   ]
  },
  {
   "cell_type": "markdown",
   "metadata": {
    "pycharm": {
     "name": "#%% md\n"
    }
   },
   "source": [
    "# Testing utility code"
   ]
  },
  {
   "cell_type": "code",
   "execution_count": null,
   "metadata": {
    "pycharm": {
     "name": "#%%\n"
    }
   },
   "outputs": [],
   "source": [
    "from util.utility_functions import get_run_times_mips\n",
    "get_run_times_mips().shape"
   ]
  },
  {
   "cell_type": "code",
   "execution_count": null,
   "metadata": {
    "pycharm": {
     "name": "#%%\n"
    }
   },
   "outputs": [],
   "source": [
    "winners = []\n",
    "for skill in running_time:\n",
    "    winners.append(np.argmax(skill))"
   ]
  },
  {
   "cell_type": "code",
   "execution_count": 11,
   "metadata": {
    "pycharm": {
     "name": "#%%\n"
    }
   },
   "outputs": [
    {
     "data": {
      "text/plain": [
       "2903"
      ]
     },
     "execution_count": 11,
     "metadata": {},
     "output_type": "execute_result"
    }
   ],
   "source": [
    "non_winner_selection = dict()\n",
    "for i, selection in enumerate(ucb.temp_selec):\n",
    "    if winners[i] in selection:\n",
    "        pass\n",
    "    else:\n",
    "        non_winner_selection[i] = f\"{winners[i]} + {selection}\"\n",
    "len(non_winner_selection)"
   ]
  }
 ],
 "metadata": {
  "kernelspec": {
   "display_name": "Python 3.8.10 ('venv': venv)",
   "language": "python",
   "name": "python3"
  },
  "language_info": {
   "codemirror_mode": {
    "name": "ipython",
    "version": 3
   },
   "file_extension": ".py",
   "mimetype": "text/x-python",
   "name": "python",
   "nbconvert_exporter": "python",
   "pygments_lexer": "ipython3",
   "version": "3.8.10"
  },
  "orig_nbformat": 4,
  "vscode": {
   "interpreter": {
    "hash": "55c9de0f782f31b2e15f3ec729743f1a68cd9e554ede3047179c4f041cd4fa5b"
   }
  }
 },
 "nbformat": 4,
 "nbformat_minor": 2
}