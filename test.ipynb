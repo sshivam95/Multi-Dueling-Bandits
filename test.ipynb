{
 "cells": [
  {
   "cell_type": "markdown",
   "metadata": {},
   "source": [
    "# Imports"
   ]
  },
  {
   "cell_type": "code",
   "execution_count": 1,
   "metadata": {},
   "outputs": [],
   "source": [
    "from algorithms.trace_the_best import TraceTheBest\n",
    "import numpy as np\n",
    "import sys\n",
    "\n",
    "import logging\n",
    "logging.basicConfig(stream=sys.stdout, format='%(asctime)s | %(name)s (%(levelname)s):\\t %(message)s')"
   ]
  },
  {
   "cell_type": "markdown",
   "metadata": {},
   "source": [
    "# Testing Algorithm"
   ]
  },
  {
   "cell_type": "code",
   "execution_count": 2,
   "metadata": {},
   "outputs": [],
   "source": [
    "ttb = TraceTheBest(rounds=1000, logger_level=logging.DEBUG)"
   ]
  },
  {
   "cell_type": "code",
   "execution_count": 3,
   "metadata": {},
   "outputs": [
    {
     "name": "stdout",
     "output_type": "stream",
     "text": [
      "2022-10-09 19:40:19,771 | TraceTheBest (INFO):\t Running algorithm...\n",
      "2022-10-09 19:40:19,772 | TraceTheBest (INFO):\t Iteration: 0\n",
      "2022-10-09 19:40:19,773 | TraceTheBest (DEBUG):\t     -> Running winner: 3\n",
      "2022-10-09 19:40:19,773 | TraceTheBest (DEBUG):\t     -> Actions: [ 7  2 15  6 18 10 19  5 16 12 17 14  9  4  0  3]\n",
      "2022-10-09 19:40:19,773 | TraceTheBest (DEBUG):\t     -> Subset: [ 8  1 11 13]\n",
      "2022-10-09 19:40:19,774 | TraceTheBest (INFO):\t Starting Duels...\n",
      "2022-10-09 19:40:19,814 | TraceTheBest (INFO):\t Duels finished...\n",
      "2022-10-09 19:40:19,815 | TraceTheBest (DEBUG):\t     -> Empirical winner: 7\n",
      "2022-10-09 19:40:19,815 | TraceTheBest (INFO):\t self.subset.size < self.subset_size - 1\n",
      "2022-10-09 19:40:19,817 | TraceTheBest (INFO):\t Iteration: 1\n",
      "2022-10-09 19:40:19,817 | TraceTheBest (DEBUG):\t     -> Running winner: 3\n",
      "2022-10-09 19:40:19,817 | TraceTheBest (DEBUG):\t     -> Actions: [19  6  7 14  9  2  4 10  0 18 12  3  8  1 11 13]\n",
      "2022-10-09 19:40:19,817 | TraceTheBest (DEBUG):\t     -> Subset: []\n",
      "2022-10-09 19:40:19,819 | TraceTheBest (INFO):\t Starting Duels...\n",
      "2022-10-09 19:40:19,840 | TraceTheBest (INFO):\t Duels finished...\n",
      "2022-10-09 19:40:19,840 | TraceTheBest (DEBUG):\t     -> Empirical winner: 19\n",
      "2022-10-09 19:40:19,841 | TraceTheBest (INFO):\t End of Iterations...\n"
     ]
    }
   ],
   "source": [
    "ttb.run()\n"
   ]
  },
  {
   "cell_type": "code",
   "execution_count": 4,
   "metadata": {},
   "outputs": [
    {
     "data": {
      "text/plain": [
       "3"
      ]
     },
     "execution_count": 4,
     "metadata": {},
     "output_type": "execute_result"
    }
   ],
   "source": [
    "ttb.get_condorcet_winner()"
   ]
  },
  {
   "cell_type": "code",
   "execution_count": 5,
   "metadata": {},
   "outputs": [
    {
     "data": {
      "text/plain": [
       "[<matplotlib.lines.Line2D at 0x1afcbdb7df0>]"
      ]
     },
     "execution_count": 5,
     "metadata": {},
     "output_type": "execute_result"
    },
    {
     "data": {
      "image/png": "[encoded data removed]",
      "text/plain": [
       "<Figure size 640x480 with 1 Axes>"
      ]
     },
     "metadata": {},
     "output_type": "display_data"
    }
   ],
   "source": [
    "from util.metrics import compute_cumm_reg\n",
    "import matplotlib.pyplot as plt\n",
    "\n",
    "regrets = np.array(ttb.regret)\n",
    "cummulative_regret = compute_cumm_reg(regrets)\n",
    "plt.plot(np.mean(cummulative_regret, axis=0))\n",
    "# plt.fill_between(range(len(cummulative_regret[0])), np.mean(cummulative_regret, axis=0)-np.std(cummulative_regret, axis=0)/np.sqrt(len(cummulative_regret)), np.mean(cummulative_regret, axis=0)+np.std(cummulative_regret, axis=0)/np.sqrt(len(cummulative_regret)), alpha=0.2)"
   ]
  },
  {
   "cell_type": "code",
   "execution_count": 22,
   "metadata": {},
   "outputs": [
    {
     "data": {
      "text/plain": [
       "array([[4.21326757e-01],\n",
       "       [3.02127747e-01],\n",
       "       [5.13350350e-01],\n",
       "       [1.24387415e-01],\n",
       "       [8.15539055e-01],\n",
       "       [9.13461209e-01],\n",
       "       [7.31561817e-01],\n",
       "       [8.62751707e-01],\n",
       "       [3.37572941e-01],\n",
       "       [8.91219361e-01],\n",
       "       [2.15942771e-01],\n",
       "       [3.19334012e-01],\n",
       "       [8.82131056e-01],\n",
       "       [1.73629077e-01],\n",
       "       [6.53976296e-01],\n",
       "       [9.84691295e-01],\n",
       "       [5.48826559e-01],\n",
       "       [5.79401860e-01],\n",
       "       [8.07384880e-01],\n",
       "       [3.05671791e-01],\n",
       "       [9.48739384e-01],\n",
       "       [9.12234771e-01],\n",
       "       [3.81104175e-01],\n",
       "       [8.23038321e-01],\n",
       "       [7.74246879e-02],\n",
       "       [1.29390015e-01],\n",
       "       [8.34577405e-01],\n",
       "       [8.88791310e-01],\n",
       "       [7.04209162e-01],\n",
       "       [2.16123385e-02],\n",
       "       [5.72768982e-01],\n",
       "       [5.68132380e-01],\n",
       "       [5.95087821e-02],\n",
       "       [1.58091208e-01],\n",
       "       [6.93523689e-01],\n",
       "       [4.63345814e-01],\n",
       "       [9.75033924e-01],\n",
       "       [7.03590432e-01],\n",
       "       [8.36369326e-01],\n",
       "       [3.28849397e-01],\n",
       "       [2.24195015e-01],\n",
       "       [9.40396136e-01],\n",
       "       [6.67289125e-01],\n",
       "       [6.86651516e-01],\n",
       "       [5.38094631e-05],\n",
       "       [4.89844476e-01],\n",
       "       [2.18797009e-01],\n",
       "       [2.35297125e-01],\n",
       "       [6.51083434e-01],\n",
       "       [2.29081979e-01],\n",
       "       [1.48454043e-01],\n",
       "       [7.46632627e-01],\n",
       "       [1.66865786e-01],\n",
       "       [4.00373143e-01],\n",
       "       [3.06707374e-01],\n",
       "       [4.56616742e-01],\n",
       "       [1.57314980e-01],\n",
       "       [4.43215040e-01],\n",
       "       [6.62460032e-01],\n",
       "       [9.68956868e-01],\n",
       "       [7.23136577e-01],\n",
       "       [4.60569334e-01],\n",
       "       [4.23698106e-01],\n",
       "       [6.40034647e-01],\n",
       "       [5.65226636e-01],\n",
       "       [1.25806224e-01],\n",
       "       [6.92367387e-01],\n",
       "       [9.16102521e-01],\n",
       "       [7.02395860e-01],\n",
       "       [8.83704704e-01],\n",
       "       [4.11235131e-01],\n",
       "       [8.33348870e-01],\n",
       "       [6.03851986e-01],\n",
       "       [3.72957245e-01],\n",
       "       [5.70619598e-01],\n",
       "       [2.91700907e-01],\n",
       "       [8.55705797e-01],\n",
       "       [5.15025623e-01],\n",
       "       [1.00192383e-01]])"
      ]
     },
     "execution_count": 22,
     "metadata": {},
     "output_type": "execute_result"
    }
   ],
   "source": [
    "ttb.theta_bar.reshape(-1,1)"
   ]
  },
  {
   "cell_type": "markdown",
   "metadata": {},
   "source": [
    "# Testing reading of features and running times"
   ]
  },
  {
   "cell_type": "code",
   "execution_count": 33,
   "metadata": {},
   "outputs": [],
   "source": [
    "import csv \n",
    "import re\n",
    "import os\n",
    "from pathlib import Path\n",
    "import numpy as np\n",
    "from sklearn import preprocessing\n",
    "import pandas as pd\n"
   ]
  },
  {
   "cell_type": "code",
   "execution_count": 34,
   "metadata": {},
   "outputs": [],
   "source": [
    "running_times_file = os.path.join(f'{Path.cwd()}', 'Data_saps_swgcp_reduced\\cpu_times_inst_param.csv')\n",
    "running_times = []\n",
    "with open(running_times_file, newline='') as csvfile:\n",
    "    running_times_data = list(csv.reader(csvfile))\n",
    "\n",
    "for i in range(1, len(running_times_data)):\n",
    "    next_line = running_times_data[i][0]\n",
    "    next_rt_vector = [float(s) for s in re.findall(r'-?\\d+\\.?\\d*', next_line)][2:]\n",
    "    running_times.append(next_rt_vector)\n",
    "running_times = np.asarray(running_times)\n",
    "lambda_ = 100\n",
    "running_times = np.exp(-lambda_ * running_times)"
   ]
  },
  {
   "cell_type": "code",
   "execution_count": 35,
   "metadata": {},
   "outputs": [
    {
     "data": {
      "text/plain": [
       "(5000, 20)"
      ]
     },
     "execution_count": 35,
     "metadata": {},
     "output_type": "execute_result"
    }
   ],
   "source": [
    "running_times.shape"
   ]
  },
  {
   "cell_type": "code",
   "execution_count": 36,
   "metadata": {},
   "outputs": [
    {
     "data": {
      "text/plain": [
       "(20, 4)"
      ]
     },
     "execution_count": 36,
     "metadata": {},
     "output_type": "execute_result"
    }
   ],
   "source": [
    "parametrizations_file = os.path.join(f'{Path.cwd()}', 'Data_saps_swgcp_reduced\\Random_Parameters_SAPS.txt')\n",
    "with open(parametrizations_file, \"r\") as f:\n",
    "    lineList = f.readlines()\n",
    "parametrizations = [float(s) for s in re.findall(r'-?\\d+\\.?\\d*', lineList[0])]\n",
    "parametrizations = np.reshape(parametrizations, (20, 4))\n",
    "parametrizations = preprocessing.normalize(parametrizations)\n",
    "parametrizations.shape"
   ]
  },
  {
   "cell_type": "code",
   "execution_count": 37,
   "metadata": {},
   "outputs": [
    {
     "data": {
      "text/plain": [
       "(5000, 8)"
      ]
     },
     "execution_count": 37,
     "metadata": {},
     "output_type": "execute_result"
    }
   ],
   "source": [
    "from sklearn.feature_selection import VarianceThreshold\n",
    "\n",
    "# read features\n",
    "features_file = os.path.join(\n",
    "        f\"{Path.cwd()}\",\n",
    "        os.path.join(\"Data_saps_swgcp_reduced\", \"Reduced_Features_SWGCP_only_5000.csv\"),\n",
    "    )\n",
    "\n",
    "features = []\n",
    "instances = []\n",
    "with open(features_file, newline='') as csvfile:\n",
    "    features_data = list(csv.reader(csvfile))\n",
    "for i in range(1, len(features_data)):\n",
    "    next_line = features_data[i]\n",
    "    instances.append(next_line[0])\n",
    "    del next_line[0]\n",
    "    next_feature_vector = [float(s) for s in next_line]\n",
    "    features.append(next_feature_vector)\n",
    "features = np.asarray(features)\n",
    "# normalize#########\n",
    "min_max_scaler = preprocessing.MinMaxScaler()\n",
    "features = min_max_scaler.fit_transform(features)\n",
    "# Drop Highly Correlated Features #######\n",
    "df = pd.DataFrame(features)\n",
    "# Create correlation matrix\n",
    "corr_matrix = df.corr().abs()\n",
    "# Select upper triangle of correlation matrix\n",
    "upper = corr_matrix.where(np.triu(np.ones(corr_matrix.shape), k=1).astype(bool))\n",
    "# Find index of feature columns with correlation greater than 0.95\n",
    "to_drop = [column for column in upper.columns if any(upper[column] > 0.98)]\n",
    "# Drop features \n",
    "df.drop(df[to_drop], axis=1, inplace=True)\n",
    "features = df.to_numpy()\n",
    "# Drop features with lower variance\n",
    "selector = VarianceThreshold(0.001)\n",
    "features = selector.fit_transform(features)\n",
    "features.shape"
   ]
  },
  {
   "cell_type": "code",
   "execution_count": null,
   "metadata": {},
   "outputs": [],
   "source": [
    "from util.utility_functions import random_sample_from_list\n",
    "\n",
    "round_1 = random_sample_from_list(array=instances, size=100, random_state=np.random.RandomState())"
   ]
  },
  {
   "cell_type": "code",
   "execution_count": null,
   "metadata": {},
   "outputs": [],
   "source": [
    "round_2 = random_sample_from_list(array=instances, exclude=round_1 ,size=100, random_state=np.random.RandomState())"
   ]
  },
  {
   "cell_type": "code",
   "execution_count": null,
   "metadata": {},
   "outputs": [],
   "source": [
    "round_2 == round_1"
   ]
  },
  {
   "cell_type": "code",
   "execution_count": null,
   "metadata": {},
   "outputs": [],
   "source": [
    "set(array) - set(exclude)"
   ]
  },
  {
   "cell_type": "code",
   "execution_count": null,
   "metadata": {},
   "outputs": [],
   "source": [
    "np.where(array == exclude)"
   ]
  },
  {
   "cell_type": "code",
   "execution_count": null,
   "metadata": {},
   "outputs": [],
   "source": [
    "np.argwhere(array == exclude)"
   ]
  },
  {
   "cell_type": "code",
   "execution_count": null,
   "metadata": {},
   "outputs": [],
   "source": [
    "len(instances)"
   ]
  },
  {
   "cell_type": "code",
   "execution_count": null,
   "metadata": {},
   "outputs": [],
   "source": [
    "n = parametrizations.shape[0]\n",
    "d = parametrizations.shape[1] * features.shape[1]\n",
    "theta_init = np.random.rand(d)\n",
    "\n",
    "Xs = []\n",
    "for t in range(features.shape[0]):\n",
    "    X = np.zeros((n, d))\n",
    "    next_context = features[t, :]\n",
    "    for i in range(n):\n",
    "        next_param = parametrizations[i]\n",
    "        X[i, :] = np.kron(parametrizations[i], next_context)\n",
    "    #        X[i,:] = np.concatenate((next_param,next_context), axis=0)\n",
    "    #    X = preprocessing.normalize(X)\n",
    "    #    min_max_scaler = preprocessing.MinMaxScaler()\n",
    "    #    X = min_max_scaler.fit_transform(X)\n",
    "    Xs.append(X)\n",
    "Xs = np.array(Xs)\n",
    "Xs.shape"
   ]
  },
  {
   "cell_type": "code",
   "execution_count": null,
   "metadata": {},
   "outputs": [],
   "source": [
    "S = np.random.choice(parametrizations.shape[0], 16, replace=False)\n",
    "rt = running_times[0, :]\n",
    "true_skills = rt[S]\n",
    "true_skills"
   ]
  },
  {
   "cell_type": "code",
   "execution_count": null,
   "metadata": {},
   "outputs": [],
   "source": [
    "rt"
   ]
  },
  {
   "cell_type": "code",
   "execution_count": null,
   "metadata": {},
   "outputs": [],
   "source": [
    "running_times"
   ]
  }
 ],
 "metadata": {
  "kernelspec": {
   "display_name": "Python 3.10.4 ('venv')",
   "language": "python",
   "name": "python3"
  },
  "language_info": {
   "codemirror_mode": {
    "name": "ipython",
    "version": 3
   },
   "file_extension": ".py",
   "mimetype": "text/x-python",
   "name": "python",
   "nbconvert_exporter": "python",
   "pygments_lexer": "ipython3",
   "version": "3.10.4"
  },
  "orig_nbformat": 4,
  "vscode": {
   "interpreter": {
    "hash": "0af4c4459b51e763b84dd116221213220cdb0e4429d7dbc612e6e1e5a252f6da"
   }
  }
 },
 "nbformat": 4,
 "nbformat_minor": 2
}
