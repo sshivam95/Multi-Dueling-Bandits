{
 "cells": [
  {
   "cell_type": "markdown",
   "metadata": {},
   "source": [
    "# Imports"
   ]
  },
  {
   "cell_type": "code",
   "execution_count": 1,
   "metadata": {},
   "outputs": [],
   "source": [
    "from algorithms.trace_the_best import TraceTheBest\n",
    "import numpy as np"
   ]
  },
  {
   "cell_type": "markdown",
   "metadata": {},
   "source": [
    "# Testing Algorithm"
   ]
  },
  {
   "cell_type": "code",
   "execution_count": 2,
   "metadata": {},
   "outputs": [],
   "source": [
    "ttb = TraceTheBest()"
   ]
  },
  {
   "cell_type": "code",
   "execution_count": 3,
   "metadata": {},
   "outputs": [
    {
     "data": {
      "text/plain": [
       "17"
      ]
     },
     "execution_count": 3,
     "metadata": {},
     "output_type": "execute_result"
    }
   ],
   "source": [
    "ttb.running_winner"
   ]
  },
  {
   "cell_type": "code",
   "execution_count": 4,
   "metadata": {},
   "outputs": [
    {
     "data": {
      "text/plain": [
       "array([16,  4, 19,  2, 21, 12,  7, 28, 18,  9, 26,  6, 11, 27, 13, 17])"
      ]
     },
     "execution_count": 4,
     "metadata": {},
     "output_type": "execute_result"
    }
   ],
   "source": [
    "ttb.actions"
   ]
  },
  {
   "cell_type": "code",
   "execution_count": 5,
   "metadata": {},
   "outputs": [
    {
     "data": {
      "text/plain": [
       "array([ 0,  1,  3,  5,  8, 10, 14, 15, 20, 22, 23, 24, 25, 29])"
      ]
     },
     "execution_count": 5,
     "metadata": {},
     "output_type": "execute_result"
    }
   ],
   "source": [
    "ttb.subset"
   ]
  },
  {
   "cell_type": "code",
   "execution_count": 7,
   "metadata": {},
   "outputs": [
    {
     "data": {
      "text/plain": [
       "14"
      ]
     },
     "execution_count": 7,
     "metadata": {},
     "output_type": "execute_result"
    }
   ],
   "source": [
    "ttb.subset.size"
   ]
  },
  {
   "cell_type": "code",
   "execution_count": 6,
   "metadata": {},
   "outputs": [],
   "source": [
    "ttb.step()"
   ]
  },
  {
   "cell_type": "code",
   "execution_count": 7,
   "metadata": {},
   "outputs": [],
   "source": [
    "wins = dict()\n",
    "for arm in ttb.actions:\n",
    "    wins[arm] = ttb.preference_estimate.get_wins(arm_index=arm)"
   ]
  },
  {
   "cell_type": "code",
   "execution_count": 8,
   "metadata": {},
   "outputs": [
    {
     "data": {
      "text/plain": [
       "{1: 22.0,\n",
       " 14: 10.0,\n",
       " 5: 18.0,\n",
       " 11: 14.0,\n",
       " 2: 5.0,\n",
       " 8: 15.0,\n",
       " 16: 14.0,\n",
       " 23: 23.0,\n",
       " 7: 22.0,\n",
       " 15: 21.0,\n",
       " 27: 12.0,\n",
       " 17: 5.0,\n",
       " 9: 3.0,\n",
       " 6: 14.0,\n",
       " 25: 12.0}"
      ]
     },
     "execution_count": 8,
     "metadata": {},
     "output_type": "execute_result"
    }
   ],
   "source": [
    "wins"
   ]
  },
  {
   "cell_type": "code",
   "execution_count": 9,
   "metadata": {},
   "outputs": [
    {
     "data": {
      "text/plain": [
       "[23]"
      ]
     },
     "execution_count": 9,
     "metadata": {},
     "output_type": "execute_result"
    }
   ],
   "source": [
    "ttb.empirical_winner"
   ]
  },
  {
   "cell_type": "markdown",
   "metadata": {},
   "source": [
    "# Testing reading of features and running times"
   ]
  },
  {
   "cell_type": "code",
   "execution_count": 1,
   "metadata": {},
   "outputs": [],
   "source": [
    "import csv \n",
    "import re\n",
    "import os\n",
    "from pathlib import Path\n",
    "import numpy as np\n",
    "from sklearn import preprocessing\n",
    "import pandas as pd\n"
   ]
  },
  {
   "cell_type": "code",
   "execution_count": 2,
   "metadata": {},
   "outputs": [],
   "source": [
    "running_times_file = os.path.join(f'{Path.cwd()}', 'Data_saps_swgcp_reduced\\cpu_times_inst_param.csv')\n",
    "running_times = []\n",
    "with open(running_times_file, newline='') as csvfile:\n",
    "    running_times_data = list(csv.reader(csvfile))\n",
    "for i in range(1, len(running_times_data)):\n",
    "    next_line = running_times_data[i][0]\n",
    "    next_rt_vector = [float(s) for s in re.findall(r'-?\\d+\\.?\\d*', next_line)][2:]\n",
    "    running_times.append(next_rt_vector)\n",
    "running_times = np.asarray(running_times)\n",
    "lambda_ = 100\n",
    "running_times = np.exp(-lambda_ * running_times)"
   ]
  },
  {
   "cell_type": "code",
   "execution_count": 3,
   "metadata": {},
   "outputs": [
    {
     "data": {
      "text/plain": [
       "(5000, 20)"
      ]
     },
     "execution_count": 3,
     "metadata": {},
     "output_type": "execute_result"
    }
   ],
   "source": [
    "running_times.shape"
   ]
  },
  {
   "cell_type": "code",
   "execution_count": 4,
   "metadata": {},
   "outputs": [
    {
     "data": {
      "text/plain": [
       "(20, 4)"
      ]
     },
     "execution_count": 4,
     "metadata": {},
     "output_type": "execute_result"
    }
   ],
   "source": [
    "parametrizations_file = os.path.join(f'{Path.cwd()}', 'Data_saps_swgcp_reduced\\Random_Parameters_SAPS.txt')\n",
    "with open(parametrizations_file, \"r\") as f:\n",
    "    lineList = f.readlines()\n",
    "parametrizations = [float(s) for s in re.findall(r'-?\\d+\\.?\\d*', lineList[0])]\n",
    "parametrizations = np.reshape(parametrizations, (20, 4))\n",
    "parametrizations = preprocessing.normalize(parametrizations)\n",
    "parametrizations.shape"
   ]
  },
  {
   "cell_type": "code",
   "execution_count": 6,
   "metadata": {},
   "outputs": [],
   "source": [
    "from sklearn.feature_selection import VarianceThreshold\n",
    "\n",
    "# read features\n",
    "features_file = os.path.join(f'{Path.cwd()}','Data_saps_swgcp_reduced\\\\Reduced_Features_SWGCP_only_5000.csv')\n",
    "features = []\n",
    "with open(features_file, newline='') as csvfile:\n",
    "    features_data = list(csv.reader(csvfile))\n",
    "for i in range(1, len(features_data)):\n",
    "    next_line = features_data[i]\n",
    "    del next_line[0]\n",
    "    next_feature_vector = [float(s) for s in next_line]\n",
    "    features.append(next_feature_vector)\n",
    "features = np.asarray(features)\n",
    "# normalize#########\n",
    "min_max_scaler = preprocessing.MinMaxScaler()\n",
    "features = min_max_scaler.fit_transform(features)\n",
    "# Drop Highly Correlated Features #######\n",
    "df = pd.DataFrame(features)\n",
    "# Create correlation matrix\n",
    "corr_matrix = df.corr().abs()\n",
    "# Select upper triangle of correlation matrix\n",
    "upper = corr_matrix.where(np.triu(np.ones(corr_matrix.shape), k=1).astype(bool))\n",
    "# Find index of feature columns with correlation greater than 0.95\n",
    "to_drop = [column for column in upper.columns if any(upper[column] > 0.98)]\n",
    "# Drop features \n",
    "df.drop(df[to_drop], axis=1, inplace=True)\n",
    "features = df.to_numpy()\n",
    "# Drop features with lower variance\n",
    "selector = VarianceThreshold(0.001)\n",
    "features = selector.fit_transform(features)\n",
    "features.shape"
   ]
  },
  {
   "cell_type": "code",
   "execution_count": 10,
   "metadata": {},
   "outputs": [
    {
     "data": {
      "text/plain": [
       "(5000, 20, 32)"
      ]
     },
     "execution_count": 10,
     "metadata": {},
     "output_type": "execute_result"
    }
   ],
   "source": [
    "n = parametrizations.shape[0]\n",
    "d = parametrizations.shape[1] * features.shape[1]\n",
    "theta_init = np.random.rand(d)\n",
    "\n",
    "Xs = []\n",
    "for t in range(features.shape[0]):\n",
    "    X = np.zeros((n, d))\n",
    "    next_context = features[t, :]\n",
    "    for i in range(n):\n",
    "        next_param = parametrizations[i]\n",
    "        X[i, :] = np.kron(parametrizations[i], next_context)\n",
    "    #        X[i,:] = np.concatenate((next_param,next_context), axis=0)\n",
    "    #    X = preprocessing.normalize(X)\n",
    "    #    min_max_scaler = preprocessing.MinMaxScaler()\n",
    "    #    X = min_max_scaler.fit_transform(X)\n",
    "    Xs.append(X)\n",
    "Xs = np.array(Xs)\n",
    "Xs.shape"
   ]
  },
  {
   "cell_type": "code",
   "execution_count": null,
   "metadata": {},
   "outputs": [],
   "source": []
  },
  {
   "cell_type": "markdown",
   "metadata": {},
   "source": [
    "# Testing whether _cached_mean_estimate same as pairwise preference score\n"
   ]
  },
  {
   "cell_type": "code",
   "execution_count": 1,
   "metadata": {},
   "outputs": [],
   "source": [
    "from stats.preference_estimate import PreferenceEstimate\n",
    "\n",
    "preference_estimate = PreferenceEstimate(\n",
    "    num_arms = 3,\n",
    "    confidence_radius=lambda num_samples: 1/(num_samples + 1)\n",
    "     )"
   ]
  },
  {
   "cell_type": "code",
   "execution_count": 2,
   "metadata": {},
   "outputs": [],
   "source": [
    "preference_estimate.enter_sample(1, 2, 1)"
   ]
  },
  {
   "cell_type": "code",
   "execution_count": 3,
   "metadata": {},
   "outputs": [
    {
     "data": {
      "text/plain": [
       "array([[0.5, 0.5, 0.5],\n",
       "       [0.5, 0.5, 1. ],\n",
       "       [0.5, 0. , 0.5]])"
      ]
     },
     "execution_count": 3,
     "metadata": {},
     "output_type": "execute_result"
    }
   ],
   "source": [
    "preference_estimate._cached_mean_estimate"
   ]
  },
  {
   "cell_type": "code",
   "execution_count": 4,
   "metadata": {},
   "outputs": [
    {
     "data": {
      "text/plain": [
       "array([[0., 0., 0.],\n",
       "       [0., 0., 1.],\n",
       "       [0., 0., 0.]])"
      ]
     },
     "execution_count": 4,
     "metadata": {},
     "output_type": "execute_result"
    }
   ],
   "source": [
    "preference_estimate.wins"
   ]
  },
  {
   "cell_type": "code",
   "execution_count": 13,
   "metadata": {},
   "outputs": [],
   "source": [
    "wins_1 = preference_estimate.get_wins(1)\n",
    "wins_2 = preference_estimate.get_wins(2)\n",
    "wins_0 = preference_estimate.get_wins(0)"
   ]
  },
  {
   "cell_type": "code",
   "execution_count": 8,
   "metadata": {},
   "outputs": [
    {
     "data": {
      "text/plain": [
       "1.0"
      ]
     },
     "execution_count": 8,
     "metadata": {},
     "output_type": "execute_result"
    }
   ],
   "source": [
    "wins_1 / wins_1 + wins_2"
   ]
  },
  {
   "cell_type": "code",
   "execution_count": 10,
   "metadata": {},
   "outputs": [],
   "source": [
    "preference_estimate.enter_sample(0, 2, False)\n",
    "preference_estimate.enter_sample(0, 1, False)\n",
    "preference_estimate.enter_sample(2, 1, False)\n",
    "preference_estimate.enter_sample(1, 0, True)\n",
    "preference_estimate.enter_sample(0, 2, False)"
   ]
  },
  {
   "cell_type": "code",
   "execution_count": 11,
   "metadata": {},
   "outputs": [
    {
     "data": {
      "text/plain": [
       "array([[0., 0., 0.],\n",
       "       [2., 0., 2.],\n",
       "       [2., 0., 0.]])"
      ]
     },
     "execution_count": 11,
     "metadata": {},
     "output_type": "execute_result"
    }
   ],
   "source": [
    "preference_estimate.wins"
   ]
  },
  {
   "cell_type": "code",
   "execution_count": 12,
   "metadata": {},
   "outputs": [
    {
     "data": {
      "text/plain": [
       "array([[0.5, 0. , 0. ],\n",
       "       [1. , 0.5, 1. ],\n",
       "       [1. , 0. , 0.5]])"
      ]
     },
     "execution_count": 12,
     "metadata": {},
     "output_type": "execute_result"
    }
   ],
   "source": [
    "preference_estimate._cached_mean_estimate"
   ]
  },
  {
   "cell_type": "code",
   "execution_count": 26,
   "metadata": {},
   "outputs": [
    {
     "data": {
      "text/plain": [
       "1.0"
      ]
     },
     "execution_count": 26,
     "metadata": {},
     "output_type": "execute_result"
    }
   ],
   "source": [
    "wins_1 /( wins_1 + wins_0)"
   ]
  },
  {
   "cell_type": "code",
   "execution_count": 23,
   "metadata": {},
   "outputs": [
    {
     "data": {
      "text/plain": [
       "4.0"
      ]
     },
     "execution_count": 23,
     "metadata": {},
     "output_type": "execute_result"
    }
   ],
   "source": [
    "wins_1"
   ]
  },
  {
   "cell_type": "code",
   "execution_count": 29,
   "metadata": {},
   "outputs": [
    {
     "data": {
      "text/plain": [
       "1.0"
      ]
     },
     "execution_count": 29,
     "metadata": {},
     "output_type": "execute_result"
    }
   ],
   "source": [
    "preference_estimate.get_mean_estimate(1,2)"
   ]
  },
  {
   "cell_type": "code",
   "execution_count": null,
   "metadata": {},
   "outputs": [],
   "source": [
    "preference_estimate.enter_sample(0, 2, False)"
   ]
  },
  {
   "cell_type": "code",
   "execution_count": 28,
   "metadata": {},
   "outputs": [
    {
     "data": {
      "text/plain": [
       "0.6666666666666666"
      ]
     },
     "execution_count": 28,
     "metadata": {},
     "output_type": "execute_result"
    }
   ],
   "source": [
    "wins_1 / (wins_1 + wins_2)"
   ]
  },
  {
   "cell_type": "code",
   "execution_count": 36,
   "metadata": {},
   "outputs": [],
   "source": [
    "prev = preference_estimate._cached_mean_estimate[1][2]\n",
    "win_indicator = 0\n",
    "new_mean = prev + (0-prev)/preference_estimate.get_num_samples(1, 2)"
   ]
  },
  {
   "cell_type": "code",
   "execution_count": 40,
   "metadata": {},
   "outputs": [
    {
     "data": {
      "text/plain": [
       "-0.5"
      ]
     },
     "execution_count": 40,
     "metadata": {},
     "output_type": "execute_result"
    }
   ],
   "source": [
    "(0 - preference_estimate._cached_mean_estimate[1][2]) / preference_estimate.get_num_samples(1, 2)"
   ]
  },
  {
   "cell_type": "code",
   "execution_count": 42,
   "metadata": {},
   "outputs": [
    {
     "data": {
      "text/plain": [
       "array([[0.5, 0. , 0. ],\n",
       "       [1. , 0.5, 1. ],\n",
       "       [1. , 0. , 0.5]])"
      ]
     },
     "execution_count": 42,
     "metadata": {},
     "output_type": "execute_result"
    }
   ],
   "source": [
    "preference_estimate.get_mean_estimate_matrix()"
   ]
  }
 ],
 "metadata": {
  "kernelspec": {
   "display_name": "Python 3.10.4 ('venv')",
   "language": "python",
   "name": "python3"
  },
  "language_info": {
   "codemirror_mode": {
    "name": "ipython",
    "version": 3
   },
   "file_extension": ".py",
   "mimetype": "text/x-python",
   "name": "python",
   "nbconvert_exporter": "python",
   "pygments_lexer": "ipython3",
   "version": "3.10.4"
  },
  "orig_nbformat": 4,
  "vscode": {
   "interpreter": {
    "hash": "0af4c4459b51e763b84dd116221213220cdb0e4429d7dbc612e6e1e5a252f6da"
   }
  }
 },
 "nbformat": 4,
 "nbformat_minor": 2
}
